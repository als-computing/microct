{
 "cells": [
  {
   "cell_type": "markdown",
   "id": "15715a73-19f3-4984-a551-2f35f0a7a87d",
   "metadata": {
    "tags": []
   },
   "source": [
    "# Beamline 8.3.2 Reconstruction"
   ]
  },
  {
   "cell_type": "code",
   "execution_count": null,
   "id": "690050a5-9d8f-4ed0-b82e-b91522cd774f",
   "metadata": {},
   "outputs": [],
   "source": [
    "%load_ext autoreload\n",
    "%autoreload 2\n",
    "%matplotlib widget\n",
    "import sys\n",
    "import os\n",
    "import multiprocessing as mp\n",
    "os.environ['NUMEXPR_MAX_THREADS'] = str(mp.cpu_count()) # to avoid numexpr warning\n",
    "os.environ['TOMOPY_PYTHON_THREADS'] = str(mp.cpu_count()) # to avoid numexpr warning\n",
    "import time\n",
    "import numpy as np\n",
    "import tomopy\n",
    "import dxchange\n",
    "import matplotlib.pyplot as plt\n",
    "import ipywidgets as widgets\n",
    "from ipywidgets import interact, fixed, IntSlider\n",
    "from ipyfilechooser import FileChooser\n",
    "sys.path.append('backend')\n",
    "import ALS_recon_functions as als\n",
    "import ALS_recon_helper as helper\n",
    "plt.ion() # this makes all the plots update properly\n",
    "use_gpu = als.check_for_gpu()"
   ]
  },
  {
   "cell_type": "markdown",
   "id": "3cc38b6b-c6f2-4122-8c29-17b9504d8aac",
   "metadata": {
    "tags": []
   },
   "source": [
    "## Choose Data"
   ]
  },
  {
   "cell_type": "code",
   "execution_count": null,
   "id": "3af95aaa-ac38-4376-b972-3c4e286c8a2e",
   "metadata": {
    "tags": []
   },
   "outputs": [],
   "source": [
    "dataDir = \"/alsuser\" if os.path.exists(\"/alsuser\") else os.getcwd() \n",
    "#dataDir = r\"\\\\data832.lbl.gov\\bl832data-raw\" # if on beamline machines\n",
    "file_chooser = FileChooser(dataDir)\n",
    "file_chooser.filter_pattern = '*.h5' # only show .h5 files\n",
    "file_chooser.title = f'Choose data file'\n",
    "display(file_chooser)"
   ]
  },
  {
   "cell_type": "markdown",
   "id": "1658ea10-55c0-4c59-b974-741287b46a3b",
   "metadata": {},
   "source": [
    "## Find Center of Rotation (COR)\n",
    "##### Check COR by manually aligning 0 and 180 degree projections"
   ]
  },
  {
   "cell_type": "code",
   "execution_count": null,
   "id": "2b1e2f95-aa6f-42e4-ae7d-5ada9aeee61a",
   "metadata": {
    "tags": []
   },
   "outputs": [],
   "source": [
    "if file_chooser.selected is None:\n",
    "    print(\"No datafile selected. Click Select to choose a datafile\")\n",
    "    sys.exit()\n",
    "metadata = als.read_metadata(file_chooser.selected, print_flag = True)\n",
    "init_cor, cor_tomo = als.auto_find_cor(file_chooser.selected) # cross-correlation based COR estimate\n",
    "first_proj, last_proj_flipped = cor_tomo[0], np.fliplr(cor_tomo[1])\n",
    "\n",
    "axs, img, cor_sliders, cor_out = als.plot_0_and_180_proj_diff(first_proj,\n",
    "                                                              last_proj_flipped,\n",
    "                                                              init_cor=init_cor,\n",
    "                                                              # yshift=True, # shows extra slider to shift proj up/down\n",
    "                                                              # continuous_update=False # can set continuous update=False to reduce lag (only updates on slider release) \n",
    "                                                              fignum=0)\n",
    "                                                            \n",
    "display(cor_sliders,cor_out)"
   ]
  },
  {
   "cell_type": "markdown",
   "id": "47e04c6a-318b-459e-b393-09927b70a2be",
   "metadata": {},
   "source": [
    "##### Unfold Cell Below to Plot Normalized Projections and Sinograms\n",
    "##### Optional, for visualization only - this cell loads all projections, so will take a minute"
   ]
  },
  {
   "cell_type": "code",
   "execution_count": null,
   "id": "ad49fced-9604-4383-8900-51bb302cb0db",
   "metadata": {
    "jupyter": {
     "source_hidden": true
    },
    "tags": []
   },
   "outputs": [],
   "source": [
    "%%time\n",
    "\n",
    "###### SET ME! ######\n",
    "downsample_factor = 4\n",
    "convert360to180 = True # only matters for 360 data - irrelevant for 180 deg data\n",
    "###### SET ME! ######\n",
    "\n",
    "tomo, angles = als.read_data(file_chooser.selected, downsample_factor=downsample_factor, prelog=True)\n",
    "\n",
    "if metadata['angularrange'] > 300 and convert360to180: # convert 360 to 180\n",
    "    print(\"Detected 360 degree acquisition - will convert sinograms to 180 degrees\")\n",
    "    COR = cor_sliders.children[0].value\n",
    "\n",
    "    if tomo.shape[0]%2>0:\n",
    "        tomo = als.sino_360_to_180(tomo[0:-1,:,:], overlap=int(np.round((tomo.shape[2]//2-COR/downsample_factor-.5))*2), rotation='right')           \n",
    "    else:\n",
    "        tomo = als.sino_360_to_180(tomo[:,:,:], overlap=int(np.round((tomo.shape[2]//2-COR/downsample_factor))*2), rotation='right')                       \n",
    "    angles = angles[:tomo.shape[0]]\n",
    "\n",
    "\n",
    "if plt.fignum_exists(2): plt.close(2)\n",
    "tomo_fig, tomo_axs = plt.subplots(1,2,num=2,figsize=(6,3))\n",
    "proj_img = tomo_axs[0].imshow(tomo[0],cmap='gray',vmin=0,vmax=1)\n",
    "tomo_axs[0].set_title(f\"Projection {0}: angle = {0} deg\")\n",
    "sino_img = tomo_axs[1].imshow(tomo[:,tomo.shape[1]//2,:],cmap='gray',vmin=0,vmax=1)\n",
    "tomo_axs[1].set_title(f\"Sinogram slice {tomo.shape[1]//2}\")\n",
    "plt.tight_layout()\n",
    "\n",
    "\n",
    "def set_proj(proj_num):\n",
    "    proj_img.set_data(tomo[proj_num,:,:])\n",
    "    tomo_axs[0].set_title(f\"Projection {proj_num}: angle = {np.rad2deg(angles[proj_num])} deg\")\n",
    "def set_sino(sino_num):\n",
    "    sino_img.set_data(tomo[:,sino_num,:])\n",
    "    tomo_axs[1].set_title(f\"Sinogram slice {sino_num}\")\n",
    "    \n",
    "\n",
    "proj_slider = widgets.interactive(set_proj, path=widgets.fixed(file_chooser.selected),\n",
    "                                  proj_num=widgets.IntSlider(description='Projection', style={'description_width': 'initial'}, layout=widgets.Layout(width='50%'),\n",
    "                                                             min=0, max=tomo.shape[0]-1,\n",
    "                                                             step=1, value=0,\n",
    "                                                             continuous_update=True))\n",
    "sino_slider = widgets.interactive(set_sino, path=widgets.fixed(file_chooser.selected),\n",
    "                                  sino_num=widgets.IntSlider(description='Sinogram Slice', style={'description_width': 'initial'}, layout=widgets.Layout(width='50%'),\n",
    "                                                             min=0, max=tomo.shape[1]-1,\n",
    "                                                             step=1, value=tomo.shape[1]//2,\n",
    "                                                             continuous_update=True))\n",
    "\n",
    "clim_slider = widgets.interactive(als.set_clim, img=widgets.fixed([proj_img,sino_img]),\n",
    "                                       clims=widgets.FloatRangeSlider(description='Projection Color Scale', style={'description_width': 'initial'}, layout=widgets.Layout(width='50%'),\n",
    "                                                                      min=np.minimum(tomo.min(),-0.1), max=np.maximum(tomo.max(),1.1),\n",
    "                                                                      step=1/500, value=[0.1, 1],\n",
    "                                                                      readout=True, readout_format='.2e'))\n",
    "\n",
    "display(proj_slider)\n",
    "display(sino_slider)\n",
    "display(clim_slider) # show color scale widget"
   ]
  },
  {
   "cell_type": "markdown",
   "id": "4ed96474-0f58-47ba-9cc4-e16da35cd6f0",
   "metadata": {
    "tags": []
   },
   "source": [
    "##### Unfold cell below for description of reconstruction parameters"
   ]
  },
  {
   "cell_type": "markdown",
   "id": "af09686f-7467-40dd-960f-e581f73ed66e",
   "metadata": {
    "jupyter": {
     "source_hidden": true
    },
    "tags": []
   },
   "source": [
    "#### 1. Alignment\n",
    "* **COR:**\n",
    "Initializes to value found above, but can fine tune if desred. With mismatched COR, arc/shadow artifacts appear in image. Adjust COR to minimize artifacts.\n",
    "\n",
    "#### 2. Resolution\n",
    "*Note: On NERSC, reconstruction takes ~2-4 sec/slice with GPU, ~30 sec/slice on CPU at full resolution (1313 ang x 2560 rays).*\n",
    "\n",
    "* **Angle Downsampling:**\n",
    "Downsampling angles by 2x reduces reconstruction time by ~2x, but may introduce streaks through center.\n",
    "\n",
    "* **Projection Downsampling:**\n",
    "Downsampling projections by 2x reduces spatial resolution by 2x, reconstruction time by ~4x (minus loading time).\n",
    "\n",
    "#### 3. Ring Removal\n",
    "*Note: strong stripe removal takes time, can reduce resolution and sometimes even introduce artifacts too, so only use as much as you need to remove visible rings\n",
    "\n",
    "* **Small Ring Size:**\n",
    "Window size of the median filter to remove small stripes. Larger is stronger but takes longer. Set to appx width of small stripes. Always choose odd value, set to 1 to turn off.\n",
    "\n",
    "* **Large Ring Size:**\n",
    "Window size of the median filter to remove large stripes. Set to appx width of large stripes -- should be larger value than Small Ring Size. Always choose odd value, set to 1 to turn off.\n",
    "\n",
    "* **Ring Removal SNR:**\n",
    "Sensitivity of large stripe detection method. Smaller is more sensitive. No affect on small stripes. Recommended values: 1.1 -- 3.0."
   ]
  },
  {
   "cell_type": "markdown",
   "id": "61cf274f-b733-4738-a6d9-1239b89584e8",
   "metadata": {
    "tags": []
   },
   "source": [
    "## Run Following Cell to Generate an Interface to Adjust Reconstruction Parameters\n",
    "##### FYI: if you want to hide the code, click the blue bar next to the cell after running it"
   ]
  },
  {
   "cell_type": "code",
   "execution_count": null,
   "id": "2d6696a2-29c4-4639-b156-f0acd623196a",
   "metadata": {
    "tags": []
   },
   "outputs": [],
   "source": [
    "# Initial recon needed to get size/colorscale of plots\n",
    "cor = cor_sliders.children[0].value\n",
    "recon_init, tomo = helper.reconstruct(file_chooser.selected, angles_ind=None, slices_ind=slice(metadata[\"numslices\"]//2,metadata[\"numslices\"]//2+1,1), COR=cor, use_gpu=use_gpu)\n",
    "clim_init = [np.percentile(recon_init,1),np.percentile(recon_init,99)]\n",
    "\n",
    "# Reconstructions/sinograms figures\n",
    "if plt.fignum_exists(1): plt.close(1)\n",
    "recon_comparison_fig, recon_comparison_axs = plt.subplots(1,2,num=1,figsize=(6,3),sharex=True,sharey=True)\n",
    "recon_comparison_img = [None, None]\n",
    "recon_comparison_img[0] = recon_comparison_axs[0].imshow(recon_init.squeeze(),cmap='gray')\n",
    "recon_comparison_axs[0].set_ylabel('Slice Reconstruction',color='k', fontsize=10)\n",
    "recon_comparison_axs[0].set_title('Recon Parameters',fontweight=\"bold\",fontsize=12)\n",
    "recon_comparison_axs[0].patch.set_edgecolor('black')  \n",
    "recon_comparison_axs[0].patch.set_linewidth(4)  \n",
    "recon_comparison_img[1] = recon_comparison_axs[1].imshow(recon_init.squeeze(),cmap='gray')\n",
    "recon_comparison_axs[1].set_title(\"Only for comparison\\n Parameters will not be used\",color='r', fontsize=10)\n",
    "plt.tight_layout()\n",
    "\n",
    "\n",
    "recon_parameter_widgets, recon_parameters_tab, recon_output = helper.reconstruction_parameter_options(file_chooser.selected,\n",
    "                                                                cor,use_gpu,recon_comparison_img[0],None,None)\n",
    "comparison_parameter_widgets, comparison_parameters_tab, comparison_output = helper.reconstruction_parameter_options(file_chooser.selected,\n",
    "                                                                cor,use_gpu,recon_comparison_img[1],None,None)\n",
    "\n",
    "\n",
    "recon_clim_slider = widgets.interactive(als.set_clim, img=widgets.fixed(recon_comparison_img),\n",
    "                              clims=widgets.FloatRangeSlider(description='Recon Color Scale', style={'description_width': 'initial'}, layout=widgets.Layout(width='50%'),\n",
    "                                                                   min=recon_init.min(), max=recon_init.max(),\n",
    "                                                                   step=(recon_init.max()-recon_init.min())/500, value=clim_init,\n",
    "                                                                   readout=True, readout_format='.2e'))\n",
    "\n",
    "# Haven't played around with layout too much. This part could probably be much fancier\n",
    "recon_header_widget = widgets.HTML(value=f\"<b><font size=3>Recon Parameters</b>\",layout=widgets.Layout(justify_content=\"center\"))\n",
    "comparison_header_widget = widgets.HTML(value=f\"<b><font size=3>Comparison</b>\",layout=widgets.Layout(justify_content=\"center\"))\n",
    "\n",
    "box_layout = widgets.Layout(width='100%',\n",
    "                            height='100%',\n",
    "                            margin='0,1%,0,1%')\n",
    "box = widgets.Box(children=[widgets.VBox([recon_header_widget,recon_parameters_tab]),\n",
    "                            widgets.VBox([comparison_header_widget,comparison_parameters_tab])]\n",
    "                            ,layout=box_layout)\n",
    "\n",
    "# Display\n",
    "display(box, recon_output, comparison_output) # show recon parameter widgets\n",
    "display(recon_clim_slider) # show recon color scale widget"
   ]
  },
  {
   "cell_type": "markdown",
   "id": "bf13eb4d-44e9-4fdc-9894-84f7d78d1db7",
   "metadata": {
    "tags": []
   },
   "source": [
    "## Choose Number of Slices to Reconstruct and Location to Save Images\n",
    "##### Unfold cell below for description of reconstruction methods"
   ]
  },
  {
   "cell_type": "markdown",
   "id": "5427b46b-8b05-42b7-82ec-98264f32e748",
   "metadata": {
    "jupyter": {
     "source_hidden": true
    },
    "tags": []
   },
   "source": [
    "**Gridrec:** fastest, recommended on Cori CPU nodes\n",
    "\n",
    "**FBP:** better image quality, recommended on Cori GPU or Perlmutter CPU/GPU nodes\n",
    "\n",
    "**CGLS:** A little better image quality than FBP. For 20 iters (default), roughly same speed as FBP. Recommended on Cori GPU or Perlmutter GPU nodes"
   ]
  },
  {
   "cell_type": "code",
   "execution_count": null,
   "id": "0d90fc23-1f9e-43b8-b090-ffe9eba094b4",
   "metadata": {
    "tags": []
   },
   "outputs": [],
   "source": [
    "save_file_chooser = FileChooser(als.get_scratch_path())\n",
    "save_file_chooser.show_only_dirs = True\n",
    "save_file_chooser.title = f'Choose where to save reconstruction'\n",
    "\n",
    "slices_header_widget = widgets.Label(value=\"Choose which slices to reconstruct\",layout=widgets.Layout(justify_content=\"center\"))\n",
    "\n",
    "start_slice_widget = widgets.BoundedIntText(description='Start Slice',\n",
    "                                min=0,\n",
    "                                max=metadata['numslices']-1,\n",
    "                                step=1,\n",
    "                                value=0,\n",
    "    style={'description_width': 'initial'} # this makes sure description text doesn't get cut off\n",
    ")\n",
    "stop_slice_widget = widgets.BoundedIntText(description='Stop Slice',\n",
    "                                min=0,\n",
    "                                max=metadata['numslices']-1,\n",
    "                                step=1,\n",
    "                                value=metadata['numslices']-1,\n",
    "    style={'description_width': 'initial'} # this makes sure description text doesn't get cut off\n",
    ")\n",
    "recon_method_widget = widgets.Dropdown(\n",
    "    options=[(\"Default\",'default'),\n",
    "             (\"Gridrec\",'gridrec'),\n",
    "             (\"FBP\",'fbp'),\n",
    "             (\"CGLS\",'cgls')],\n",
    "    value='default',\n",
    "    description='Reconstruction Method:',\n",
    "    style={'description_width': 'initial'} # this makes sure description text doesn't get cut off\n",
    ")\n",
    "slices_box = widgets.VBox([slices_header_widget,start_slice_widget,stop_slice_widget])\n",
    "display(save_file_chooser)\n",
    "display(slices_box)\n",
    "display(recon_method_widget)"
   ]
  },
  {
   "cell_type": "markdown",
   "id": "a55938ab",
   "metadata": {},
   "source": [
    "## Chose if you are going to use a Conda Environment for running SVMBIR\n"
   ]
  },
  {
   "cell_type": "code",
   "execution_count": null,
   "id": "ef82039c",
   "metadata": {},
   "outputs": [],
   "source": [
    "conda = widgets.Dropdown(\n",
    "    options=['Yes', 'No'],\n",
    "    value='No',\n",
    "    description='Use Conda ENV',\n",
    "    disabled=False,\n",
    ")\n",
    "\n",
    "def handle_input_change(change):\n",
    "    print(f'Input changed to: {change.new}')\n",
    "\n",
    "conda.observe(handle_input_change, names='value')\n",
    "\n",
    "display(conda)"
   ]
  },
  {
   "cell_type": "markdown",
   "id": "788ddf57-a9dd-49b7-ad67-56b2da3d1191",
   "metadata": {},
   "source": [
    "## Populate Parameters of Reconstruction with \"Recon Parameters\""
   ]
  },
  {
   "cell_type": "code",
   "execution_count": null,
   "id": "f22ccdac-55e9-4a34-9de6-1fae1f679cd7",
   "metadata": {
    "tags": []
   },
   "outputs": [],
   "source": [
    "if save_file_chooser.selected_path is None:\n",
    "    raise TypeError(\"You forgot to set a save directory\")\n",
    "if conda.value == 'Yes':\n",
    "    data_settings = {\n",
    "        \"output_path\": save_file_chooser.selected_path, # existing folder where you can write lots of data\n",
    "        \"data_path\": (file_chooser.selected).replace('alsdata', f'global/cfs/cdirs/als/data_mover/share/{os.popen(\"echo $USER\").read()[:-1]}'), # for conda env\n",
    "        \"name\": os.path.splitext(file_chooser.selected_filename)[0], # don't change\n",
    "        \"start_slice\": start_slice_widget.value,\n",
    "        \"stop_slice\": stop_slice_widget.value,\n",
    "        \"angles_ind\": slice(0,None,recon_parameter_widgets['angle_downsample'].value), # use every angle \n",
    "        \"proj_downsample\": recon_parameter_widgets['proj_downsample'].value,\n",
    "    }\n",
    "else:\n",
    "    conda.value = None\n",
    "    data_settings = {\n",
    "        \"output_path\": save_file_chooser.selected_path, # existing folder where you can write lots of data\n",
    "        \"data_path\": file_chooser.selected, # don't change # for the container\n",
    "        \"name\": os.path.splitext(file_chooser.selected_filename)[0], # don't change\n",
    "        \"start_slice\": start_slice_widget.value,\n",
    "        \"stop_slice\": stop_slice_widget.value,\n",
    "        \"angles_ind\": slice(0,None,recon_parameter_widgets['angle_downsample'].value), # use every angle \n",
    "        \"proj_downsample\": recon_parameter_widgets['proj_downsample'].value,\n",
    "    }\n",
    "\n",
    "\n",
    "preprocess_settings = {\n",
    "    \"snr\": recon_parameter_widgets['ring']['sarepy_snr'].value, \n",
    "    \"la_size\": recon_parameter_widgets['ring']['sarepy_large'].value,\n",
    "    \"sm_size\": recon_parameter_widgets['ring']['sarepy_small'].value,\n",
    "    \"outlier_diff_1D\": recon_parameter_widgets['additional']['outlier_diff'].value,\n",
    "    \"outlier_sizef_1D\": recon_parameter_widgets['additional']['outlier_size'].value,\n",
    "    \"minimum_transmission\": recon_parameter_widgets['additional']['min_transmission'].value\n",
    "}\n",
    "\n",
    "postprocess_settings = {\n",
    "    \"ringSigma\": recon_parameter_widgets['ring']['ringSigma'].value,\n",
    "    \"ringLevel\": recon_parameter_widgets['ring']['ringLevel'].value\n",
    "}\n",
    "\n",
    "recon_settings = {\n",
    "    \"method\": recon_method_widget.value,\n",
    "    \"COR\": recon_parameter_widgets['cor'].value,\n",
    "    \"fc\": recon_parameter_widgets['fc'].value, \n",
    "    \"use_gpu\": use_gpu\n",
    "}\n",
    "\n",
    "settings = {\"data\": data_settings, \"preprocess\": preprocess_settings, \"postprocess\": postprocess_settings, \"recon\": recon_settings}\n",
    "for subset in settings:\n",
    "   print('\\n' + subset.upper())\n",
    "   for key in settings[subset]:\n",
    "       print(f\"{key}: {settings[subset][key]}\") "
   ]
  },
  {
   "cell_type": "markdown",
   "id": "eaf71897-0bff-4336-b50d-65289207d9c3",
   "metadata": {
    "jupyter": {
     "source_hidden": true
    },
    "tags": []
   },
   "source": [
    "## Reconstruct and Save 3D Volume in Notebook\n",
    "##### Approximate reconstruction time per 50 slices (using default method)\n",
    "###### - Perlmutter Exclusive GPU node: ~5-10 sec\n",
    "###### - Perlmutter Exclusive CPU node: ~10-20 sec\n",
    "###### - Cori Shared CPU node: ~30-200 sec\n",
    "##### *Note: For more efficient workflow, submit reconstruction to NERSC batch job (see below)*"
   ]
  },
  {
   "cell_type": "code",
   "execution_count": null,
   "id": "19102299-c94f-4c8b-989e-b7ee02a541e2",
   "metadata": {},
   "outputs": [],
   "source": [
    "nchunk = 50 # Balance between available cpus and memory (larger value can be more parallelized but uses more memory). 50 was empirically chosen on Perlmutter exclusive node, though 100 was more or less the same.\n",
    "save_dir = os.path.join(settings[\"data\"][\"output_path\"],settings[\"data\"][\"name\"])\n",
    "if not os.path.exists(save_dir): os.makedirs(save_dir)\n",
    "save_name = os.path.join(save_dir,settings[\"data\"][\"name\"])\n",
    "for i in range(np.ceil((settings[\"data\"]['stop_slice']-settings[\"data\"]['start_slice'])/nchunk).astype(int)):\n",
    "    start_iter = settings[\"data\"]['start_slice']+i*nchunk\n",
    "    stop_iter = np.minimum(start_iter+nchunk,settings[\"data\"]['stop_slice'])\n",
    "    print(f\"Starting recon of slices {start_iter}-{stop_iter}...\",end=' ')\n",
    "    tic = time.time()\n",
    "\n",
    "    recon,_ = helper.reconstruct(path=settings[\"data\"][\"data_path\"],\n",
    "                           angles_ind=settings[\"data\"]['angles_ind'],\n",
    "                           slices_ind=slice(start_iter,stop_iter,1),\n",
    "                           COR=settings[\"recon\"][\"COR\"],\n",
    "                           method=settings[\"recon\"][\"method\"],\n",
    "                           proj_downsample=settings[\"data\"][\"proj_downsample\"],\n",
    "                           fc=settings[\"recon\"][\"fc\"],\n",
    "                           preprocessing_settings=settings[\"preprocess\"],\n",
    "                           postprocessing_settings=settings[\"postprocess\"],\n",
    "                           use_gpu=settings[\"recon\"][\"use_gpu\"])\n",
    "\n",
    "    print(f\"Finished: took {time.time()-tic} sec. Saving files...\")\n",
    "    dxchange.write_tiff_stack(recon, fname=save_name, start=start_iter)\n",
    "print(\"Done\")"
   ]
  },
  {
   "cell_type": "markdown",
   "id": "2dd98a06-73a8-4b3e-80a0-8d85e94700ad",
   "metadata": {},
   "source": [
    "## Reconstruct and Save 3D Volume with NERSC Batch Job\n",
    "##### 1. The cell below prepares the config script needed to submit a job"
   ]
  },
  {
   "cell_type": "code",
   "execution_count": null,
   "id": "65336028-054b-4b9d-ba5b-0232979977f6",
   "metadata": {},
   "outputs": [],
   "source": [
    "import ALS_batch_recon as batch_recon\n",
    "\n",
    "configs_dir, config_script_name = batch_recon.create_batch_script(settings)   \n",
    "# list configs_dir\n",
    "print(f\"Contents of batch jobs configs directory: {configs_dir}\") \n",
    "os.system(f\"ls {configs_dir}\")\n",
    "print('')"
   ]
  },
  {
   "cell_type": "markdown",
   "id": "770e6944-a05b-4c1c-8b00-f61cb1ee8c97",
   "metadata": {},
   "source": [
    "##### 2. Run the following cell to submit the batch job"
   ]
  },
  {
   "cell_type": "code",
   "execution_count": null,
   "id": "324993ad-2a9b-48a8-a22d-ab9a076f639a",
   "metadata": {},
   "outputs": [],
   "source": [
    "# submit batch job config you just created\n",
    "os.system(f\"sbatch {os.path.join(configs_dir,config_script_name)}\")"
   ]
  },
  {
   "cell_type": "markdown",
   "id": "eccc58b3-e5b2-4c7d-863e-9ba12e0f85d3",
   "metadata": {},
   "source": [
    "See all current batch jobs (including this interavtive jupyter session)\n",
    "\n",
    "Note: If you've submitted many jobs you may not see them all listed (only an issue inside container)"
   ]
  },
  {
   "cell_type": "code",
   "execution_count": null,
   "id": "3845effa-a8f4-4fcf-9141-c29512c884f9",
   "metadata": {},
   "outputs": [],
   "source": [
    "print(\"List of current batch jobs:\")\n",
    "os.system(\"sqs\")"
   ]
  },
  {
   "cell_type": "markdown",
   "id": "36f20d19-c6af-44b6-9241-3248e21a3c5a",
   "metadata": {},
   "source": [
    "##### To cancel a batch job, run this cell with the right Job ID"
   ]
  },
  {
   "cell_type": "code",
   "execution_count": null,
   "id": "dfd16ede-9fe1-4c7e-a6c8-e421b1b91123",
   "metadata": {},
   "outputs": [],
   "source": [
    "# eq. scancel 2800193\n",
    "os.system(\"scancel 0000000\")"
   ]
  },
  {
   "cell_type": "markdown",
   "id": "06fc707e-a04c-4026-96e7-ed51e6958936",
   "metadata": {},
   "source": [
    "## Create NERSC Batch Jobs for Multiple Datasets\n",
    "##### Choose directory, will use the same settings for all datasets in that directory"
   ]
  },
  {
   "cell_type": "code",
   "execution_count": null,
   "id": "476cbbdf-5c2e-40c8-b251-b54971f33c0f",
   "metadata": {},
   "outputs": [],
   "source": [
    "dataDir = \"/alsuser\" if os.path.exists(\"/alsuser\") else os.getcwd() \n",
    "batch_file_chooser = FileChooser(dataDir)\n",
    "batch_file_chooser.show_only_dirs = True\n",
    "batch_file_chooser.title = f'Choose data directory'\n",
    "slice_range_widget = widgets.RadioButtons(\n",
    "    options=[('reconstruct all slices',0),('use EXACT same range for all',1)],\n",
    "    value=0, # default\n",
    "    description='Slice Range:',\n",
    "    disabled=False\n",
    ")\n",
    "cor_widget = widgets.RadioButtons(\n",
    "    options=[('use auto-COR finder for all',0), ('use EXACT same COR for all',1)],\n",
    "    value=0, # default\n",
    "    description='COR:',\n",
    "    disabled=False\n",
    ")\n",
    "display(batch_file_chooser)\n",
    "display(slice_range_widget)\n",
    "display(cor_widget)"
   ]
  },
  {
   "cell_type": "markdown",
   "id": "c84e3c67-fccf-4e13-a8c9-3a2bbd37fb30",
   "metadata": {},
   "source": [
    "##### Create batch jobs for all .h5 files"
   ]
  },
  {
   "cell_type": "code",
   "execution_count": null,
   "id": "e7ae5a16-da56-4a67-a3ff-efabb17712f1",
   "metadata": {},
   "outputs": [],
   "source": [
    "import ALS_batch_recon as batch_recon\n",
    "\n",
    "for file in os.listdir(batch_file_chooser.selected_path):\n",
    "    if file.endswith(\".h5\"):\n",
    "        # update data path and name\n",
    "        settings[\"data\"][\"data_path\"] = os.path.join(batch_file_chooser.selected_path,file)\n",
    "        settings[\"data\"][\"name\"] = os.path.splitext(file)[0]\n",
    "        metadata = als.read_metadata(os.path.join(batch_file_chooser.selected_path,file), print_flag = False)\n",
    "        # change slice range, if necessary\n",
    "        if slice_range_widget.value == 0:\n",
    "            settings[\"data\"][\"start_slice\"] =  0\n",
    "            settings[\"data\"][\"stop_slice\"] =  metadata['numslices']-1\n",
    "        # change COR to auto, if necessary\n",
    "        if cor_widget.value == 1:\n",
    "            settings[\"recon\"][\"COR\"] =  None\n",
    "        \n",
    "        # create template\n",
    "        configs_dir,_ = batch_recon.create_batch_script(settings)   "
   ]
  },
  {
   "cell_type": "markdown",
   "id": "5c63a201-1f79-456f-9220-ac3cf0d070fe",
   "metadata": {},
   "source": [
    "##### Submit all batch jobs"
   ]
  },
  {
   "cell_type": "code",
   "execution_count": null,
   "id": "c4402bed-b2e6-4c58-989b-bfaa063c3b8c",
   "metadata": {},
   "outputs": [],
   "source": [
    "def submit_callback(b):\n",
    "    with output:\n",
    "        for config_script_name in os.listdir(configs_dir):\n",
    "            if config_script_name.startswith(\"config_\") and config_script_name.endswith(\".sh\"):\n",
    "                os.system(f\"sbatch {os.path.join(configs_dir,config_script_name)}\")\n",
    "        submit_button.layout.visibility = 'hidden'\n",
    "        cancel_button.layout.visibility = 'hidden'\n",
    "        # print(\"List of current batch jobs:\")\n",
    "        # os.system(\"sqs\")\n",
    "def cancel_callback(b):\n",
    "    with output:\n",
    "        submit_button.layout.visibility = 'hidden'\n",
    "        cancel_button.layout.visibility = 'hidden'\n",
    "        print(\"List of current batch jobs:\")\n",
    "        # os.system(\"sqs\")\n",
    "label = widgets.HTML(value=\"<font color='red'><font size=4>WARNING: THIS WILL LAUNCH MANY MANY NERSC BATCH JOBS -- USE RESPONSIBLY!!!\")\n",
    "submit_button = widgets.Button(\n",
    "    description='Submit',\n",
    "    disabled=False,\n",
    "    button_style='success',\n",
    ")\n",
    "cancel_button = widgets.Button(\n",
    "    description='Cancel',\n",
    "    disabled=False,\n",
    "    button_style='', # 'success', 'info', 'warning', 'danger' or ''\n",
    "    on_click=cancel_callback\n",
    ")\n",
    "output = widgets.Output()\n",
    "button_box = widgets.VBox([label, widgets.HBox([submit_button, cancel_button])])\n",
    "display(button_box,output)\n",
    "\n",
    "submit_button.on_click(submit_callback)\n",
    "cancel_button.on_click(cancel_callback)"
   ]
  },
  {
   "cell_type": "markdown",
   "id": "1185156f-aafd-4daa-9add-dd5c393fc177",
   "metadata": {},
   "source": [
    "## Optional: SVMBIR reconstruction (for better image quality)"
   ]
  },
  {
   "cell_type": "markdown",
   "id": "52789e20-099f-4173-902a-8629aefd2ff1",
   "metadata": {},
   "source": [
    "## Choose SVMBIR parameters\n",
    "##### Unfold cell below for description of SVMBIR parameters"
   ]
  },
  {
   "cell_type": "markdown",
   "id": "77935fdd-bb40-4103-b605-3eb2a1cb3365",
   "metadata": {
    "jupyter": {
     "source_hidden": true
    },
    "tags": []
   },
   "source": [
    "**p**: smoothing parameter for large grayscale differences (ie contrasting pixels).\n",
    "<br> 1 = Total Variation: preserves edges but can look unrealistic (\"cartoonish\")\n",
    "<br> 2 = Tikhonov regularization: looks natural but reduces resolution\n",
    "<br> Typically a compromise between 1 and 2 works best\n",
    "\n",
    "**q**: smoothing parameter for small grayscale differences (ie. similar pixels). Between p and 2\n",
    "\n",
    "**T**: transition value from q to p (in pixel grayscale difference). Must be > 0\n",
    "\n",
    "**sharpness**: strength of smoothing -- lower is more smooth. +1 change is equivalent to +6 dB snr. Can typically just change one or the other\n",
    "\n",
    "**snr_dB**: strength of smoothing -- lower is more smooth. +6 dB is equivalent to +1 sharpness. Can typically just change one or the other"
   ]
  },
  {
   "cell_type": "code",
   "execution_count": null,
   "id": "ad159fd4-72a3-4028-a04b-0c3914f7d36f",
   "metadata": {
    "tags": []
   },
   "outputs": [],
   "source": [
    "import svmbir\n",
    "header_widget = widgets.Label(value=\"Parameters for Single Slice SVMBIR\",layout=widgets.Layout(justify_content=\"center\"))\n",
    "notice_widget = widgets.HTML(value=\"<font color='red'><font size=2>Only for this slice visualization. Full recon will be at previously requested resolution\")\n",
    "\n",
    "p = 1.2\n",
    "q = 2 # never change this\n",
    "T = 0.1\n",
    "snr_dB = 40\n",
    "\n",
    "sharpness_widget = widgets.BoundedFloatText(description='SVMBIR sharpness',\n",
    "                                min=-10,\n",
    "                                max=10,\n",
    "                                step=0.1,\n",
    "                                value=0,\n",
    "    style={'description_width': 'initial'} # this makes sure description text doesn't get cut off\n",
    ")\n",
    "svmbir_slice_widget = widgets.BoundedIntText(description='Slice number',\n",
    "                                min=0,\n",
    "                                max=metadata['numslices']-1,\n",
    "                                step=1,\n",
    "                                value=metadata['numslices']//2,\n",
    "    style={'description_width': 'initial'} # this makes sure description text doesn't get cut off\n",
    ")\n",
    "\n",
    "proj_downsample_widget = widgets.Dropdown(\n",
    "    options=[(\"Full res\",1), (\"2x downsample\",2), (\"4x downsample\",4), (\"8x downsample\",8)],\n",
    "    value=2,\n",
    "    description='Projection Downsampling:',\n",
    "    style={'description_width': 'initial'} # this makes sure description text doesn't get cut off\n",
    ")\n",
    "\n",
    "svmbir_box = widgets.VBox([header_widget,\n",
    "                           sharpness_widget,\n",
    "                           svmbir_slice_widget,\n",
    "                           widgets.HBox([proj_downsample_widget,notice_widget])])\n",
    "display(svmbir_box)"
   ]
  },
  {
   "cell_type": "markdown",
   "id": "3955af6d-355f-4d98-ad05-3e732aa6791a",
   "metadata": {},
   "source": [
    "## Run SVMBIR on a Single Slice\n",
    "##### Note: SVMBIR is MUCH slower. At full resolution (1313 ang x 2560 rays), takes ~2-4 min/slice with all 128 exclusive node threads (uses CPU only).\n",
    "##### Downsampling by 2x reduces time by ~4x"
   ]
  },
  {
   "cell_type": "code",
   "execution_count": null,
   "id": "53ba1577-29e0-4ad9-a9e2-2f1f8971215b",
   "metadata": {
    "tags": []
   },
   "outputs": [],
   "source": [
    "%%time\n",
    "slices_ind = slice(svmbir_slice_widget.value,svmbir_slice_widget.value+1,1)\n",
    "\n",
    "tomo, angles = als.read_data(settings[\"data\"][\"data_path\"],\n",
    "                             proj=settings[\"data\"][\"angles_ind\"],\n",
    "                             sino=slices_ind,\n",
    "                             downsample_factor=proj_downsample_widget.value,\n",
    "                             preprocess_settings=settings[\"preprocess\"],\n",
    "                             postprocess_settings=settings[\"postprocess\"])\n",
    "\n",
    "tic = time.time()\n",
    "\n",
    "astra_recon = als.astra_fbp_recon(tomo, angles,\n",
    "                              COR=settings[\"recon\"][\"COR\"]/proj_downsample_widget.value,\n",
    "                              fc=settings[\"recon\"][\"fc\"],\n",
    "                              gpu=settings[\"recon\"][\"use_gpu\"])\n",
    "astra_recon = als.mask_recon(astra_recon)\n",
    "print(f\"Finished Astra recon, took {time.time()-tic} sec. Starting SVBMIR...\")\n",
    "\n",
    "svmbir_settings = {\n",
    "    \"p\": p, \n",
    "    \"q\": q, \n",
    "    \"T\": T,\n",
    "    \"sharpness\": sharpness_widget.value, \n",
    "    \"snr_dB\": snr_dB,\n",
    "    \"max_iter\": 100,\n",
    "    \"COR\": settings['recon']['COR']/proj_downsample_widget.value\n",
    "}\n",
    "\n",
    "tic = time.time()\n",
    "\n",
    "svmbir_recon = als.svmbir_recon(tomo,angles,**svmbir_settings,num_threads=2)\n",
    "svmbir_recon = als.mask_recon(svmbir_recon)\n",
    "\n",
    "print(f\"Finished SVMBIR recon, took {time.time()-tic} sec\")\n",
    "print('')\n",
    "print('This took:')"
   ]
  },
  {
   "cell_type": "markdown",
   "id": "86bc94ae-eb7a-489f-9199-d44d7216129f",
   "metadata": {},
   "source": [
    "##### Compare Astra FBP and SVMBIR Reconstructions"
   ]
  },
  {
   "cell_type": "code",
   "execution_count": null,
   "id": "3d14c0ed-8813-4621-a874-feafcf0e77e2",
   "metadata": {},
   "outputs": [],
   "source": [
    "img, axs, clim_slider = als.plot_recon_comparison(astra_recon, svmbir_recon, titles=['FBP','SVMBIR'], fignum=5, figsize=4)\n",
    "display(clim_slider)"
   ]
  },
  {
   "cell_type": "markdown",
   "id": "2eb9a913-1bef-423d-b155-6ebc5c01492f",
   "metadata": {},
   "source": [
    "##### Create SVMBIR batch job script"
   ]
  },
  {
   "cell_type": "code",
   "execution_count": null,
   "id": "38623899-a947-4caa-b8af-a8700818285f",
   "metadata": {},
   "outputs": [],
   "source": [
    "import ALS_batch_recon as batch_recon\n",
    "\n",
    "svmbir_settings = settings.copy()\n",
    "svmbir_settings[\"recon\"][\"method\"] = \"svmbir\"\n",
    "svmbir_settings[\"svmbir_settings\"] = {\n",
    "    \"p\": p, \n",
    "    \"q\": q, \n",
    "    \"T\": T,\n",
    "    \"sharpness\": sharpness_widget.value, \n",
    "    \"snr_dB\": snr_dB,\n",
    "    \"max_iter\": 100,\n",
    "    \"COR\": settings['recon']['COR']/svmbir_settings[\"data\"][\"proj_downsample\"]\n",
    "}\n",
    "\n",
    "configs_dir, config_script_name = batch_recon.create_svmbir_batch_script(svmbir_settings, *[conda.value])   \n",
    "    \n",
    "print(f\"Contents of batch jobs configs directory: {configs_dir}\") \n",
    "os.system(f\"ls {configs_dir}\")\n",
    "print('')"
   ]
  },
  {
   "cell_type": "markdown",
   "id": "66b7f704-ed85-4ba0-a3a0-0d5799597661",
   "metadata": {},
   "source": [
    "##### Submit SVMBIR batch job"
   ]
  },
  {
   "cell_type": "code",
   "execution_count": null,
   "id": "22d3e68e-097a-4f0b-a853-6da9a7b3c6f7",
   "metadata": {},
   "outputs": [],
   "source": [
    "# submit batch job config you just created\n",
    "os.system(f\"sbatch {os.path.join(configs_dir,config_script_name)}\")"
   ]
  },
  {
   "cell_type": "markdown",
   "id": "f97439f6-0449-46af-a910-ea9b897ddbaa",
   "metadata": {},
   "source": [
    "See all current batch jobs (including this interavtive jupyter session)\n",
    "\n",
    "Note: If you've submitted many jobs you may not see them all listed (only an issue inside container)"
   ]
  },
  {
   "cell_type": "code",
   "execution_count": null,
   "id": "951117a1-0e51-4e47-ae44-1a9ffc897965",
   "metadata": {},
   "outputs": [],
   "source": [
    "print(\"List of current batch jobs:\")\n",
    "os.system(\"sqs\")"
   ]
  },
  {
   "cell_type": "markdown",
   "id": "4d5af922-83ba-4fba-b2ad-b863be6e70d3",
   "metadata": {},
   "source": [
    "##### To cancel a batch job, run this cell with the right Job ID"
   ]
  },
  {
   "cell_type": "code",
   "execution_count": null,
   "id": "44f39a14-576d-4ed7-824a-757b2a952fee",
   "metadata": {},
   "outputs": [],
   "source": [
    "# eq. scancel 2800193\n",
    "os.system(\"scancel 0000000\")"
   ]
  },
  {
   "cell_type": "code",
   "execution_count": null,
   "id": "3467264d-a484-4b06-8f48-baae196c2dcf",
   "metadata": {},
   "outputs": [],
   "source": []
  }
 ],
 "metadata": {
  "kernelspec": {
   "display_name": "Python 3 (ipykernel)",
   "language": "python",
   "name": "python3"
  },
  "language_info": {
   "codemirror_mode": {
    "name": "ipython",
    "version": 3
   },
   "file_extension": ".py",
   "mimetype": "text/x-python",
   "name": "python",
   "nbconvert_exporter": "python",
   "pygments_lexer": "ipython3",
   "version": "3.9.7"
  },
  "toc-autonumbering": false,
  "toc-showcode": true,
  "toc-showmarkdowntxt": false,
  "toc-showtags": false
 },
 "nbformat": 4,
 "nbformat_minor": 5
}
