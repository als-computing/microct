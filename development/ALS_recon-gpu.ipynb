{
 "cells": [
  {
   "cell_type": "code",
   "execution_count": null,
   "id": "aafa1401-94f4-4eff-9ba6-f0a12c6bf52e",
   "metadata": {},
   "outputs": [],
   "source": [
    "%matplotlib widget\n",
    "\n",
    "import os\n",
    "import multiprocessing as mp\n",
    "os.environ['NUMEXPR_MAX_THREADS'] = str(mp.cpu_count()) # to avoid numexpr warning\n",
    "import time\n",
    "import numexpr\n",
    "import numpy as np\n",
    "from skimage import transform, filters, io\n",
    "import tomopy\n",
    "import svmbir\n",
    "import dxchange\n",
    "import matplotlib.pyplot as plt\n",
    "import ipywidgets as widgets\n",
    "from ipywidgets import interact, fixed, FloatSlider, IntSlider\n",
    "import ALS_recon_helper\n",
    "import utils"
   ]
  },
  {
   "cell_type": "markdown",
   "id": "3cc38b6b-c6f2-4122-8c29-17b9504d8aac",
   "metadata": {},
   "source": [
    "### Choose Data\n",
    "###### Here we choose petiole data"
   ]
  },
  {
   "cell_type": "code",
   "execution_count": null,
   "id": "3af95aaa-ac38-4376-b972-3c4e286c8a2e",
   "metadata": {},
   "outputs": [],
   "source": [
    "#input and output paths\n",
    "dataDir = \"//global/cfs/cdirs/als/users/dperl/petiole_data\"\n",
    "outputDir = \"$PSCRATCH\"\n",
    "filename = '20211222_113313_petiole3.h5'"
   ]
  },
  {
   "cell_type": "code",
   "execution_count": null,
   "id": "1c08093e-7e6d-4756-8548-955a74904db7",
   "metadata": {},
   "outputs": [],
   "source": [
    "path = os.path.join(dataDir, filename)\n",
    "metadata = ALS_recon_helper.read_metadata(path)"
   ]
  },
  {
   "cell_type": "markdown",
   "id": "2d271f43-1f88-4935-8556-ff0cfe4502d7",
   "metadata": {},
   "source": [
    "#### Get projection data. Can subsample angles and/or slices with numpy slicing notation (start, stop, step)\n",
    "###### Here we highly downsample a single slice for quick reconstruction "
   ]
  },
  {
   "cell_type": "code",
   "execution_count": null,
   "id": "f9f3674a-5c8d-46ee-87a0-df6298df9ce1",
   "metadata": {},
   "outputs": [],
   "source": [
    "# angles_ind = None # get all angles (implicitly)\n",
    "# angles_ind = slice(0,-1,1) # get all angles (explicitly)\n",
    "angles_ind = slice(0,-1,4) # get every 4th angle\n",
    "# slices_ind =  None # get all slices\n",
    "# slices_ind = slice(0,10,1) # get first 10 slices\n",
    "# slices_ind = slice(-10,-1,1) # get last 10 slices\n",
    "slices_ind = slice(metadata['numslices']//2,metadata['numslices']//2+1,1) # get only middle slice\n",
    "#downsample_factor = None # do not downsample projections\n",
    "downsample_factor = 4 # downsample projections (in both slice and ray dimensions)\n",
    "tomo, angles = ALS_recon_helper.read_data(path, proj=angles_ind, sino=slices_ind, downsample_factor=downsample_factor)\n",
    "print(f\"data shape = {tomo.shape}\")"
   ]
  },
  {
   "cell_type": "markdown",
   "id": "1658ea10-55c0-4c59-b974-741287b46a3b",
   "metadata": {},
   "source": [
    "### Find Reconstruction Settings\n",
    "#### Reconstruct 2D slice with manual center of rotation (COR) \n",
    "###### Here we try many CORs to find best one. Iterate COR range with increasing resolution"
   ]
  },
  {
   "cell_type": "code",
   "execution_count": null,
   "id": "9f2eb1af-0da9-4add-80a9-37d9bcd6953b",
   "metadata": {},
   "outputs": [],
   "source": [
    "%%time\n",
    "# cors = np.arange(-80,81,5) # wide COR rangeum)\n",
    "cors = np.arange(30,45,0.5) # narrow COR range\n",
    "recons = [tomopy.recon(tomo, angles, center=cor/downsample_factor + tomo.shape[2]/2,\n",
    "                       algorithm=tomopy.astra,\n",
    "                       options={'method':\"FBP_CUDA\", 'proj_type':'cuda'})\n",
    "          for cor in cors]"
   ]
  },
  {
   "cell_type": "markdown",
   "id": "a567e1bf-7f6a-4202-899d-54183ae2ea9b",
   "metadata": {},
   "source": [
    "###### Gaussian smooth recons (FBP is noisy)"
   ]
  },
  {
   "cell_type": "code",
   "execution_count": null,
   "id": "b9a7700d-eb49-4fd1-9649-063ad740d49f",
   "metadata": {},
   "outputs": [],
   "source": [
    "smooth_um = 2 # in um\n",
    "\n",
    "smooth_px = smooth_um/(1e4*metadata['pxsize']*downsample_factor)\n",
    "recons = [filters.gaussian(recon,sigma=smooth_px) for recon in recons]"
   ]
  },
  {
   "cell_type": "code",
   "execution_count": null,
   "id": "68279c4b-9e64-42a2-b851-ee7ba25e0f47",
   "metadata": {},
   "outputs": [],
   "source": [
    "def plot_recons(recon,fignum=1):\n",
    "    img_lim = [np.percentile(recons[0],1),np.percentile(recons[0],99)]\n",
    "    if plt.fignum_exists(fignum): plt.close(fignum)\n",
    "    fig = plt.figure(num=fignum,figsize=(4, 4))\n",
    "    axs = plt.gca()\n",
    "    h = axs.imshow(recon[0],cmap='gray',vmin=img_lim[0],vmax=img_lim[1])    \n",
    "    return h, axs\n",
    "def set_cor(i):\n",
    "    h.set_data(recons[i][0])\n",
    "    axs.set_title(f\"COR = {cors[i]} pixels (at full res)\")"
   ]
  },
  {
   "cell_type": "markdown",
   "id": "b46bb16a-552a-4d5c-b3e6-188c0827c19a",
   "metadata": {},
   "source": [
    "###### With mismatched COR, arc/shadow artifacts appear on features. Try to minimize"
   ]
  },
  {
   "cell_type": "code",
   "execution_count": null,
   "id": "bd9c5f4d-2fa6-4512-bea2-2b92e7175868",
   "metadata": {},
   "outputs": [],
   "source": [
    "h, axs = plot_recons(recons[0],fignum=1)\n",
    "interact(set_cor, i=IntSlider(min=0, max=len(cors)-1, step=1, value=0))"
   ]
  },
  {
   "cell_type": "markdown",
   "id": "61cf274f-b733-4738-a6d9-1239b89584e8",
   "metadata": {},
   "source": [
    "#### Reconstruct 2D slice with FBP at full resolution with best COR "
   ]
  },
  {
   "cell_type": "code",
   "execution_count": null,
   "id": "b9a499a9-2692-4bdf-a0d2-8b77e109b662",
   "metadata": {},
   "outputs": [],
   "source": [
    "%%time\n",
    "angles_ind = None # get all angles\n",
    "slices_ind = slice(metadata['numslices']//2,metadata['numslices']//2+1,1) # get only middle slice\n",
    "downsample_factor = None\n",
    "smooth_um = 1 # in um\n",
    "COR = 36.5\n",
    "tomo, angles = ALS_recon_helper.read_data(path, proj=angles_ind, sino=slices_ind, downsample_factor=downsample_factor)\n",
    "fbp_recon = tomopy.recon(tomo, angles, center=COR + tomo.shape[2]/2,\n",
    "                       algorithm=tomopy.astra,\n",
    "                       options={'method':\"FBP_CUDA\", 'proj_type':'cuda'})\n",
    "\n",
    "smooth_px = smooth_um/(1e4*metadata['pxsize'])\n",
    "fbp_recon = filters.gaussian(fbp_recon,sigma=smooth_px)\n",
    "print(fbp_recon.shape)"
   ]
  },
  {
   "cell_type": "code",
   "execution_count": null,
   "id": "dd3366c5-1bd0-473f-9f00-4957f3fa6248",
   "metadata": {},
   "outputs": [],
   "source": [
    "img_lim = [np.percentile(recons[0],1),np.percentile(recons[0],99)]\n",
    "if plt.fignum_exists(2): plt.close(2)\n",
    "plt.figure(num=2,figsize=(4,4))\n",
    "plt.imshow(fbp_recon[0],cmap='gray',vmin=img_lim[0],vmax=img_lim[1])"
   ]
  },
  {
   "cell_type": "markdown",
   "id": "337ef095-37f1-4a43-b868-5c76eb2119ec",
   "metadata": {},
   "source": [
    "#### Reconstruct 2D slice with SVMBIR at full resolution with best COR\n",
    "###### SVMBIR recon takes ~2-4 min/slice at full resolution with all (128) threads"
   ]
  },
  {
   "cell_type": "code",
   "execution_count": null,
   "id": "6f985560-1801-41ee-82fe-c43368cd90dc",
   "metadata": {},
   "outputs": [],
   "source": [
    "%%time\n",
    "T = 0.1 #smoothing parameter\n",
    "q = 1.2 #smoothing parameter\n",
    "p = 2 #smoothing parameter\n",
    "sharpness = 0.5\n",
    "snr_db = 60.0\n",
    "angles_ind = None # get all angles\n",
    "slices_ind = slice(metadata['numslices']//2,metadata['numslices']//2+1,1) # get only middle slice\n",
    "downsample_factor = None\n",
    "COR = 36.5\n",
    "tomo, angles = ALS_recon_helper.read_data(path, proj=angles_ind, sino=slices_ind, downsample_factor=downsample_factor)\n",
    "tomo = ALS_recon_helper.shift_prjections(tomo,COR) # must manually shift COR, not shift projector\n",
    "svmbir_recon = svmbir.recon(tomo,angles,\n",
    "                          center_offset=0.0, # MUST BE ZERO TO AVOID VERY LONG COMPUTATION OF PROJECTION MATRIX  \n",
    "                          # init_image=fbp_recon.copy(), # init with fbp for faster convergence. copy is important to not overwite fbp_recon                     \n",
    "                          T=T, q=q, p=p, sharpness=sharpness, snr_db=snr_db,\n",
    "                          # num_threads=128,\n",
    "                          # max_iterations=10,\n",
    "                          svmbir_lib_path='/pscratch/sd/d/dperl/svmbir_cache',\n",
    "                          verbose=1)\n",
    "print(svmbir_recon.shape)"
   ]
  },
  {
   "cell_type": "code",
   "execution_count": null,
   "id": "335d220b-a882-44ef-a075-867a3c4204e0",
   "metadata": {},
   "outputs": [],
   "source": [
    "if plt.fignum_exists(3): plt.close(3)\n",
    "fig, axs = plt.subplots(1,2,num=3,figsize=(10,6),sharex=True,sharey=True)\n",
    "axs[0].imshow(fbp_recon[0],cmap='gray',vmin=np.percentile(fbp_recon[0],1),vmax=np.percentile(fbp_recon[0],99))\n",
    "axs[0].set_title('FBP')\n",
    "axs[1].imshow(svmbir_recon[0],cmap='gray',vmin=np.percentile(svmbir_recon[0],10),vmax=np.percentile(svmbir_recon[0],90))\n",
    "axs[1].set_title('SVMBIR')\n",
    "plt.tight_layout()"
   ]
  },
  {
   "cell_type": "markdown",
   "id": "eaf71897-0bff-4336-b50d-65289207d9c3",
   "metadata": {},
   "source": [
    "### Reconstruct 3D stack\n",
    "###### FBP_CUDA with 100 slices takes ~ 30 sec with 1 GPU "
   ]
  },
  {
   "cell_type": "code",
   "execution_count": null,
   "id": "786cbcb9-ab42-4e75-865d-1576207dfa3a",
   "metadata": {},
   "outputs": [],
   "source": [
    "%%time\n",
    "angles_ind = None\n",
    "slices_ind = slice(1000,1100,1)\n",
    "smooth_um = 1 # in um\n",
    "COR = 36.5\n",
    "tomo, angles = ALS_recon_helper.read_data(path, proj=angles_ind, sino=slices_ind)\n",
    "fbp_recon = tomopy.recon(tomo, angles, center=COR + tomo.shape[2]/2,\n",
    "                       algorithm=tomopy.astra,\n",
    "                       options={'method':\"FBP_CUDA\", 'proj_type':'cuda'})\n",
    "\n",
    "smooth_px = smooth_um/(1e4*metadata['pxsize'])\n",
    "recon_3d = filters.gaussian(fbp_recon,sigma=smooth_px)\n",
    "print(fbp_recon.shape)"
   ]
  },
  {
   "cell_type": "code",
   "execution_count": null,
   "id": "307bc820-08f0-4bc4-b01c-3a32f88f2ac1",
   "metadata": {},
   "outputs": [],
   "source": [
    "def plot_recon_3d(recon_3d,fignum=1):\n",
    "    img_lim = [np.percentile(recon_3d[0],1),np.percentile(recons[0],99)]\n",
    "    if plt.fignum_exists(fignum): plt.close(fignum)\n",
    "    fig = plt.figure(num=fignum,figsize=(6, 6))\n",
    "    axs = plt.gca()\n",
    "    h = axs.imshow(recon_3d[0],cmap='gray',vmin=img_lim[0],vmax=img_lim[1])    \n",
    "    return h, axs\n",
    "def set_z(z):\n",
    "    h.set_data(recon_3d[z])\n",
    "    axs.set_title(f\"Slice {z}\")"
   ]
  },
  {
   "cell_type": "code",
   "execution_count": null,
   "id": "39a0df60-e6d8-449a-84df-093460bfff2a",
   "metadata": {},
   "outputs": [],
   "source": [
    "h, axs = plot_recon_3d(recons[0],fignum=4)\n",
    "interact(set_z, z=IntSlider(min=0, max=len(recon_3d)-1, step=1, value=len(recon_3d)//2))"
   ]
  },
  {
   "cell_type": "markdown",
   "id": "06d40a67-2077-4366-adf5-165ea8d68662",
   "metadata": {},
   "source": [
    "#### Reconstruct and save volume in chunks of 100 slices"
   ]
  },
  {
   "cell_type": "code",
   "execution_count": null,
   "id": "19102299-c94f-4c8b-989e-b7ee02a541e2",
   "metadata": {},
   "outputs": [],
   "source": [
    "saveDir = os.path.join(outputDir,os.path.splitext(filename)[0])\n",
    "if not os.path.exists(saveDir): os.makedirs(saveDir)\n",
    "savename = os.path.join(saveDir,\"img\")\n",
    "\n",
    "start = 0\n",
    "stop = 500\n",
    "nchunk = 100\n",
    "\n",
    "smooth_um = 1 # in um\n",
    "COR = 36.5\n",
    "\n",
    "\n",
    "for i in range(np.ceil((stop-start)/100).astype(int)):\n",
    "    start_iter = start+i*nchunk\n",
    "    stop_iter = np.minimum((i+1)*nchunk,stop)\n",
    "    tomo, angles = ALS_recon_helper.read_data(path, sino=slice(start_iter,stop_iter,1))\n",
    "    print(f\"Starting recon of slices {start_iter}-{stop_iter}...\",end=' ')\n",
    "    tic = time.time()\n",
    "    recon = tomopy.recon(tomo, angles, center=COR + tomo.shape[2]/2,\n",
    "                           algorithm=tomopy.astra,\n",
    "                           options={'method':\"FBP_CUDA\", 'proj_type':'cuda'})\n",
    "    if smooth_um:\n",
    "        smooth_px = smooth_um/(1e4*metadata['pxsize'])\n",
    "        recon_3d = filters.gaussian(fbp_recon,sigma=smooth_px)\n",
    "    print(f\"Finished: took {time.time()-tic} sec. Saving files...\")\n",
    "\n",
    "    dxchange.write_tiff_stack(recon, fname=savename, start=start_iter)"
   ]
  },
  {
   "cell_type": "markdown",
   "id": "ef9bfe71-9134-4714-ba24-a4de7992e7cf",
   "metadata": {},
   "source": [
    "### Submit batch job\n",
    "###### For very long jobs"
   ]
  },
  {
   "cell_type": "code",
   "execution_count": null,
   "id": "a39fe15e-788e-402c-a32a-4c923a6a115b",
   "metadata": {},
   "outputs": [],
   "source": [
    "# TBD"
   ]
  }
 ],
 "metadata": {
  "kernelspec": {
   "display_name": "tomopy_als",
   "language": "python",
   "name": "tomopy_als"
  },
  "language_info": {
   "codemirror_mode": {
    "name": "ipython",
    "version": 3
   },
   "file_extension": ".py",
   "mimetype": "text/x-python",
   "name": "python",
   "nbconvert_exporter": "python",
   "pygments_lexer": "ipython3",
   "version": "3.9.12"
  }
 },
 "nbformat": 4,
 "nbformat_minor": 5
}
