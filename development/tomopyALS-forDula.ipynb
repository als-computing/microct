{
 "cells": [
  {
   "cell_type": "markdown",
   "metadata": {},
   "source": [
    "# Beamline 8.3.2 TomoPy Reconstruction"
   ]
  },
  {
   "cell_type": "code",
   "execution_count": 1,
   "metadata": {},
   "outputs": [
    {
     "name": "stderr",
     "output_type": "stream",
     "text": [
      "olefile module not found\n"
     ]
    },
    {
     "ename": "ModuleNotFoundError",
     "evalue": "No module named 'authlib'",
     "output_type": "error",
     "traceback": [
      "\u001b[0;31m---------------------------------------------------------------------------\u001b[0m",
      "\u001b[0;31mModuleNotFoundError\u001b[0m                       Traceback (most recent call last)",
      "Input \u001b[0;32mIn [1]\u001b[0m, in \u001b[0;36m<cell line: 15>\u001b[0;34m()\u001b[0m\n\u001b[1;32m     13\u001b[0m \u001b[38;5;28;01mimport\u001b[39;00m \u001b[38;5;21;01mbase64\u001b[39;00m\n\u001b[1;32m     14\u001b[0m \u001b[38;5;28;01mimport\u001b[39;00m \u001b[38;5;21;01mrequests\u001b[39;00m\n\u001b[0;32m---> 15\u001b[0m \u001b[38;5;28;01mfrom\u001b[39;00m \u001b[38;5;21;01mauthlib\u001b[39;00m\u001b[38;5;21;01m.\u001b[39;00m\u001b[38;5;21;01mintegrations\u001b[39;00m\u001b[38;5;21;01m.\u001b[39;00m\u001b[38;5;21;01mrequests_client\u001b[39;00m \u001b[38;5;28;01mimport\u001b[39;00m OAuth2Session\n\u001b[1;32m     16\u001b[0m \u001b[38;5;28;01mfrom\u001b[39;00m \u001b[38;5;21;01mauthlib\u001b[39;00m\u001b[38;5;21;01m.\u001b[39;00m\u001b[38;5;21;01moauth2\u001b[39;00m\u001b[38;5;21;01m.\u001b[39;00m\u001b[38;5;21;01mrfc7523\u001b[39;00m \u001b[38;5;28;01mimport\u001b[39;00m PrivateKeyJWT\n\u001b[1;32m     17\u001b[0m \u001b[38;5;28;01mimport\u001b[39;00m \u001b[38;5;21;01mmatplotlib\u001b[39;00m\u001b[38;5;21;01m.\u001b[39;00m\u001b[38;5;21;01mpyplot\u001b[39;00m \u001b[38;5;28;01mas\u001b[39;00m \u001b[38;5;21;01mplt\u001b[39;00m\n",
      "\u001b[0;31mModuleNotFoundError\u001b[0m: No module named 'authlib'"
     ]
    }
   ],
   "source": [
    "%load_ext autoreload\n",
    "%autoreload 2\n",
    "from __future__ import print_function\n",
    "import numpy as np\n",
    "import os\n",
    "os.environ[\"NUMEXPR_MAX_THREADS\"] = '999'\n",
    "import numbers\n",
    "import dxchange\n",
    "import pickle\n",
    "from IPython.display import display\n",
    "import ipywidgets as widgets\n",
    "import json\n",
    "import base64\n",
    "import requests\n",
    "from authlib.integrations.requests_client import OAuth2Session\n",
    "from authlib.oauth2.rfc7523 import PrivateKeyJWT\n",
    "import matplotlib.pyplot as plt\n",
    "import matplotlib.animation as animation\n",
    "from reconstructionGPU import recon_setup, recon\n",
    "import time\n",
    "import utils"
   ]
  },
  {
   "cell_type": "markdown",
   "metadata": {},
   "source": [
    "### The following cell is just to double check that the number of threads is high enough to not throw warnings later. If for some reason it is still showing that the number of threads is 64, expect warnings."
   ]
  },
  {
   "cell_type": "code",
   "execution_count": null,
   "metadata": {
    "tags": []
   },
   "outputs": [],
   "source": [
    "if 'NUMEXPR_MAX_THREADS' in os.environ: os.environ.pop('NUMEXPR_MAX_THREADS')\n",
    "import numexpr\n",
    "print('NumExpr.nthreads = ' + str(numexpr.nthreads))"
   ]
  },
  {
   "cell_type": "markdown",
   "metadata": {},
   "source": [
    "### These are functions needed for job submission to NERSC. Do not alter."
   ]
  },
  {
   "cell_type": "markdown",
   "metadata": {},
   "source": [
    "### Change the inputPath and outputPath as needed. Uncomment the remainder to view files in the input directory"
   ]
  },
  {
   "cell_type": "markdown",
   "metadata": {},
   "source": [
    "You can use the `listdir` functions to query `h5` files in the input directory, to select files, or you can change the filename by hand."
   ]
  },
  {
   "cell_type": "code",
   "execution_count": null,
   "metadata": {
    "scrolled": true,
    "tags": []
   },
   "outputs": [],
   "source": [
    "inputPath = \"/global/homes/l/lgupta/m1759/TOMODATA/\"\n",
    "subdirectoryname = ''\n",
    "\n",
    "outputPath = os.path.join(inputPath,\"out\")\n",
    "pickledparamsfile = f'{subdirectoryname}.pkl'\n",
    "\n",
    "# filenamelist = os.listdir(inputPath)\n",
    "# filenamelist.sort()\n",
    "# # uncomment this to print all files, instead of just last 10\n",
    "# # for i in range(0,len(filenamelist)):\n",
    "# #     print(f'{i}: {filenamelist[i]}')\n",
    "\n",
    "# filenamelist = os.listdir(inputPath)\n",
    "# filenamelist.sort()\n",
    "# for i in range(np.maximum(len(filenamelist)-10000,0),len(filenamelist)):\n",
    "#     print(f'{i}: {filenamelist[i]}')\n",
    "\n",
    "filename = \"20210628_184523_griebenow_084626_repeat_4x.h5\""
   ]
  },
  {
   "cell_type": "markdown",
   "metadata": {},
   "source": [
    "### View some important information"
   ]
  },
  {
   "cell_type": "code",
   "execution_count": null,
   "metadata": {},
   "outputs": [],
   "source": [
    "numslices = int(dxchange.read_hdf5(os.path.join(inputPath, filename), \"/measurement/instrument/detector/dimension_y\")[0])\n",
    "numrays = int(dxchange.read_hdf5(os.path.join(inputPath, filename), \"/measurement/instrument/detector/dimension_x\")[0])\n",
    "pxsize = dxchange.read_hdf5(os.path.join(inputPath, filename), \"/measurement/instrument/detector/pixel_size\")[0] / 10.0  # /10 to convert units from mm to cm\n",
    "numangles = int(dxchange.read_hdf5(os.path.join(inputPath, filename), \"/process/acquisition/rotation/num_angles\")[0])\n",
    "propagation_dist = dxchange.read_hdf5(os.path.join(inputPath, filename), \"/measurement/instrument/camera_motor_stack/setup/camera_distance\")[0]\n",
    "kev = dxchange.read_hdf5(os.path.join(inputPath, filename), \"/measurement/instrument/monochromator/energy\")[0] / 1000\n",
    "angularrange = dxchange.read_hdf5(os.path.join(inputPath, filename), \"/process/acquisition/rotation/range\")[0]\n",
    "\n",
    "print(f'{filename}: \\nslices: {numslices}, rays: {numrays}, angles: {numangles}, angularrange: {angularrange}, \\npxsize: {pxsize*10000} um, distance: {propagation_dist} mm. energy: {kev} keV')\n",
    "if kev>100:\n",
    "    print('white light mode detected; energy is set to 30 kev for the phase retrieval function')"
   ]
  },
  {
   "cell_type": "markdown",
   "metadata": {},
   "source": [
    "### Edit parameters for reconstruction. Open the reconstruction.py file to see comments on options."
   ]
  },
  {
   "cell_type": "code",
   "execution_count": null,
   "metadata": {},
   "outputs": [],
   "source": [
    "functioninput = {\n",
    "    \"filename\": filename, \"inputPath\": inputPath, \"outputPath\": outputPath, \"filetype\": 'dxfile', \"timepoint\": 0,\n",
    "    \"sinoused\": (500,510,1),#(-1,1,1), #(start, stop, step) for which slices to recon. (-1,1,1) reconstructs just the middle slice\n",
    "    \"cor\": None, # None, #set something other than None if you want to automatically detect center of rotation\n",
    "    \"corFunction\": 'pc',\n",
    "    \"writereconstruction\": 0, \"writenormalized\": 0, \"dorecon\": 1,\n",
    "    \"doOutliers1D\": 1,\n",
    "    \"doFWringremoval\": 0,\n",
    "    \"doPhaseRetrieval\": 1, \"alphaReg\": 0.02,\n",
    "    \"castTo8bit\": 1, \"cast8bit_min\": -10, \"cast8bit_max\": 15,\n",
    "    \"doPolarRing\": 0, \"Rarc\": 20, \"Rmaxwidth\": 30, \"Rtmax\": 101, \"Rthr\": 101, \"Rtmin\": -100,\n",
    "    \"chunk_proj\": 50, \"chunk_sino\": 50,\n",
    "    \"verbose_printing\": 1,\n",
    "    \"angle_offset\": 0,\n",
    "}\n",
    "recon_dictionary, cor_tomo = recon_setup(**functioninput)\n",
    "print(f\"center of rotation: {recon_dictionary['cor']}\")\n",
    "\n",
    "recon_dictionary['kev'] = 21.999772731\n",
    "recon_dictionary['propagation_dist'] = 40.955192"
   ]
  },
  {
   "cell_type": "markdown",
   "metadata": {},
   "source": [
    "### Manually set center of rotation based on overlay of first and last image (assumes 180 degree rotation)"
   ]
  },
  {
   "cell_type": "code",
   "execution_count": null,
   "metadata": {},
   "outputs": [],
   "source": [
    "%matplotlib widget\n",
    "\n",
    "if isinstance(cor_tomo,np.ndarray):  \n",
    "    firstimage = np.squeeze(cor_tomo[-1,:,:])\n",
    "    lastimageflipped = np.squeeze(cor_tomo[1,:,::-1])\n",
    "    shiftedlastimage = np.zeros_like(lastimageflipped)\n",
    "    imagewidth = cor_tomo.shape[2]\n",
    "    cor_shift_initial_value = 2*(recon_dictionary['cor'] - imagewidth/2)\n",
    "    non = lambda s: s if s<0 else None\n",
    "    mom = lambda s: max(0,s)\n",
    "\n",
    "    fig, ax = plt.subplots(constrained_layout=True)\n",
    "    fig.canvas.toolbar_position = 'right'\n",
    "    fig.canvas.header_visible = False\n",
    "    img = ax.imshow(firstimage-lastimageflipped,cmap='gray',vmin=-0.2,vmax=0.2)\n",
    "    \n",
    "    def updateimage(ox):\n",
    "        recon_dictionary['cor'] = imagewidth/2.0 + ox/2.0\n",
    "        shiftedlastimage[:,mom(ox):non(ox)] = lastimageflipped[:, mom(-ox):non(-ox)]\n",
    "        img.set_array(firstimage - shiftedlastimage)\n",
    "        ax.set_title(f\"COR: {recon_dictionary['cor']}\")\n",
    "        fig.canvas.draw()\n",
    "        fig.canvas.flush_events()\n",
    "    \n",
    "    slider_xshift = widgets.IntSlider(description='Shift Image', min = -300, max = 300, step=1, value = cor_shift_initial_value, layout=widgets.Layout(width='50%'))\n",
    "    uishiftsliders = widgets.HBox([slider_xshift])\n",
    "    outshiftsliders = widgets.interactive_output(updateimage,{'ox':slider_xshift});\n",
    "    display(uishiftsliders,outshiftsliders)\n",
    "else:\n",
    "    print(\"COR was already set by user, no display available\")"
   ]
  },
  {
   "cell_type": "markdown",
   "metadata": {},
   "source": [
    "### Given the settings chosen above, the following cell will reconstruct one slice (or the number specificed with `sinoused`)"
   ]
  },
  {
   "cell_type": "code",
   "execution_count": null,
   "metadata": {
    "scrolled": true,
    "tags": []
   },
   "outputs": [],
   "source": [
    "start = time.time()\n",
    "\n",
    "print(f\"COR: {recon_dictionary['cor']}\")\n",
    "\n",
    "recon_dictionary[\"recon_algorithm\"] = 'sirt'\n",
    "recon_dictionary[\"accelerated\"] = True\n",
    "recon_dictionary[\"interpolation\"] = \"NN\"\n",
    "recon_dictionary[\"device\"] = \"gpu\"\n",
    "recon_dictionary[\"pool_size\"] = 32\n",
    "recon_dictionary[\"ncore\"] = 4\n",
    "recon_dictionary[\"verbose_printing\"] = False\n",
    "recon_dictionary[\"iterations\"] = 10\n",
    "recon_dictionary[\"sinoused\"] = (500,510,1)\n",
    "rec, tomo = recon(**recon_dictionary);\n",
    "\n",
    "stop = time.time()\n",
    "print(\"\\nTotal wall time in minutes: \", (stop - start)/60)"
   ]
  },
  {
   "cell_type": "markdown",
   "metadata": {},
   "source": [
    "### View the small reconstruction"
   ]
  },
  {
   "cell_type": "code",
   "execution_count": null,
   "metadata": {},
   "outputs": [],
   "source": [
    "imagetoshow = rec\n",
    "\n",
    "number_of_slices = imagetoshow.shape[0]\n",
    "\n",
    "def showstack(slicenumber):\n",
    "    plt.figure(figsize=(8, 8))\n",
    "    plt.imshow(imagetoshow[slicenumber,:,:],cmap='gray',vmin=-0,vmax=255)\n",
    "    return slicenumber\n",
    "\n",
    "w = widgets.interactive(showstack, slicenumber = (0,number_of_slices-1,1))\n",
    "w.children[0].value = 0    \n",
    "display(w)"
   ]
  },
  {
   "cell_type": "markdown",
   "metadata": {},
   "source": [
    "### Ready to submit a bigger job to the NERSC Cluster? If all the settings are the same, just run the next cell to prepare ALL sinograms for reconstrution."
   ]
  },
  {
   "cell_type": "markdown",
   "metadata": {},
   "source": [
    "Make sure you have changed the key.json file. Please do not share keys."
   ]
  },
  {
   "cell_type": "code",
   "execution_count": null,
   "metadata": {},
   "outputs": [],
   "source": [
    "functioninput['sinoused'] = None\n",
    "functioninput['writereconstruction'] = 1\n",
    "functioninput['verbose_printing'] = 1\n",
    "functioninput['cor'] = recon_dictionary['cor']\n",
    "recon_dictionary, cor_tomo = recon_setup(**functioninput)\n",
    "jwt = get_jwt(\"key.json\")\n",
    "submission = submit(recon_dictionary, jwt)\n"
   ]
  },
  {
   "cell_type": "markdown",
   "metadata": {},
   "source": [
    "### Want to see how the jobs are doing? Copy and paste the following into a terminal (logged into`perlmutter-p1.nersc.gov`): "
   ]
  },
  {
   "cell_type": "markdown",
   "metadata": {},
   "source": [
    "`squeue -u <NERSC USERNAME>`"
   ]
  }
 ],
 "metadata": {
  "kernelspec": {
   "display_name": "NERSC Python",
   "language": "python",
   "name": "python3"
  },
  "language_info": {
   "codemirror_mode": {
    "name": "ipython",
    "version": 3
   },
   "file_extension": ".py",
   "mimetype": "text/x-python",
   "name": "python",
   "nbconvert_exporter": "python",
   "pygments_lexer": "ipython3",
   "version": "3.9.7"
  }
 },
 "nbformat": 4,
 "nbformat_minor": 4
}
