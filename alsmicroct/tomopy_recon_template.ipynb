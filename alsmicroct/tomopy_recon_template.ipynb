{
 "cells": [
  {
   "cell_type": "code",
   "execution_count": null,
   "metadata": {
    "tags": [
     "parameters"
    ]
   },
   "outputs": [],
   "source": [
    "import os\n",
    "import shutil\n",
    "\n",
    "filename = None\n",
    "inputPath = None\n",
    "fulloutputPath = os.path.join(os.path.expandvars(\"$SCRATCH\"), \"tomopy_images\")\n",
    "chunk_proj = 10\n",
    "chunk_sino = 10\n",
    "ncore = None\n",
    "filetype = 'als'"
   ]
  },
  {
   "cell_type": "markdown",
   "metadata": {},
   "source": [
    "## Inputs validation and sanity checks"
   ]
  },
  {
   "cell_type": "code",
   "execution_count": null,
   "metadata": {},
   "outputs": [],
   "source": [
    "if inputPath is None:\n",
    "    raise Exception(\"inputPath is None, must be a valid absolute path to an input file\")\n",
    "elif not os.path.exists(inputPath):\n",
    "    raise Exception(\"inputPath {} was not found\".format(inputPath))\n",
    "\n",
    "if filename is None:\n",
    "    raise Exception(\"filename is None, must be a valid filename to an input file\")\n",
    "else:\n",
    "    fullpath = os.path.join(inputPath, filename)\n",
    "    \n",
    "    if not os.path.exists(fullpath):\n",
    "        raise Exception(\"{} is not a valid filename and inputPath, please provide an absolute path and filename for input\".format(fullpath))"
   ]
  },
  {
   "cell_type": "code",
   "execution_count": null,
   "metadata": {},
   "outputs": [],
   "source": [
    "from reconstruction import recon_setup, recon"
   ]
  },
  {
   "cell_type": "markdown",
   "metadata": {},
   "source": [
    "## Initialize using recon_setup() with the given parameters"
   ]
  },
  {
   "cell_type": "code",
   "execution_count": null,
   "metadata": {},
   "outputs": [],
   "source": [
    "#data_size = get_dx_dims(filename, 'data')\n",
    "print(\"Processing: {}\".format(inputPath))\n",
    "\n",
    "params = dict(\n",
    "    filename = filename,\n",
    "    inputPath = inputPath,\n",
    "    fulloutputPath = fulloutputPath,\n",
    "    chunk_proj = chunk_proj,\n",
    "    chunk_sino = chunk_sino,\n",
    "    ncore = ncore\n",
    ")\n",
    "\n",
    "recon_params, tomo = recon_setup(**params, filetype=filetype)"
   ]
  },
  {
   "cell_type": "markdown",
   "metadata": {},
   "source": [
    "## Run the reconstruction step and gather the final output"
   ]
  },
  {
   "cell_type": "code",
   "execution_count": null,
   "metadata": {},
   "outputs": [],
   "source": [
    "%%capture run_info\n",
    "rec, tomo = recon(**recon_params)\n",
    "\n",
    "try:\n",
    "    rec[0]\n",
    "except:\n",
    "    raise Exception(\"Datacube not found!\", [rec, tomo])"
   ]
  },
  {
   "cell_type": "markdown",
   "metadata": {},
   "source": [
    "## A sample image"
   ]
  },
  {
   "cell_type": "code",
   "execution_count": null,
   "metadata": {},
   "outputs": [],
   "source": [
    "import matplotlib.pyplot as plt\n",
    "plt.imshow(rec[0,:,:],cmap='gray')"
   ]
  },
  {
   "cell_type": "markdown",
   "metadata": {},
   "source": [
    "## A preview using the ipysliceviewer widget"
   ]
  },
  {
   "cell_type": "code",
   "execution_count": null,
   "metadata": {},
   "outputs": [],
   "source": [
    "#from ipysliceviewer import SliceViewer\n",
    "#s = SliceViewer(volume=rec)\n",
    "#s"
   ]
  }
 ],
 "metadata": {
  "kernelspec": {
   "display_name": "tomopy_als",
   "language": "python",
   "name": "tomopy_als"
  },
  "language_info": {
   "codemirror_mode": {
    "name": "ipython",
    "version": 3
   },
   "file_extension": ".py",
   "mimetype": "text/x-python",
   "name": "python",
   "nbconvert_exporter": "python",
   "pygments_lexer": "ipython3",
   "version": "3.7.6"
  }
 },
 "nbformat": 4,
 "nbformat_minor": 4
}
