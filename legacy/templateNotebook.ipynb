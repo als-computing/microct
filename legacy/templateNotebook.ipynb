{
 "cells": [
  {
   "cell_type": "markdown",
   "metadata": {},
   "source": [
    "Updated 26 Sept 2022\n",
    "Press shift-enter to run each cell. You can edit the code in each cell, and you can also re-run each cell. The lines that start with # are comments that give you instructions on what you can edit."
   ]
  },
  {
   "cell_type": "code",
   "execution_count": null,
   "metadata": {},
   "outputs": [],
   "source": [
    "#this cell imports the functions needed in the notebook\n",
    "from __future__ import print_function\n",
    "import numpy as np\n",
    "import os\n",
    "import numbers\n",
    "\n",
    "import ipywidgets as widgets\n",
    "\n",
    "%matplotlib widget\n",
    "import matplotlib.pyplot as plt\n",
    "import matplotlib.animation as animation\n",
    "\n",
    "from IPython.display import display\n",
    "\n",
    "from reconstruction import recon_setup, recon\n",
    "import dxchange\n",
    "import h5py\n",
    "\n",
    "import pickle\n",
    "recons_todo = [] #list of recon_dictionary variables so that you can accumulate a bunch of them and then run them at once."
   ]
  },
  {
   "cell_type": "code",
   "execution_count": null,
   "metadata": {
    "scrolled": true,
    "tags": []
   },
   "outputs": [],
   "source": [
    "inputSubFolderName = \"ALS-12345_name\" #this should be the name of the folder in the file browser to the left that has data\n",
    "outputSubfolderName = \"reconstructions\" #this can be anything you want, I usually choose the current date\n",
    "\n",
    "inputPath = os.path.join(\"/alsdata\", inputSubFolderName)\n",
    "\n",
    "if os.path.isdir(\"/alsuser/pscratch\"):\n",
    "    wheretosave = \"pscratch\"\n",
    "elif os.path.isdir(\"/alsuser/cscratch\"):  \n",
    "    wheretosave = \"cscratch\"\n",
    "else:\n",
    "    wheretosave = \"notebooks\"\n",
    "    \n",
    "outputPath = os.path.join(\"/alsuser/\", wheretosave, outputSubfolderName)    \n",
    "\n",
    "if not os.path.exists(outputPath):\n",
    "    os.mkdir(outputPath)\n",
    "pickledparamsfile = f'{outputSubfolderName}.pkl'\n",
    "filenamelist = os.listdir(inputPath)\n",
    "filenamelist.sort()\n",
    "for i in range(len(filenamelist)-1,np.maximum(len(filenamelist)-10000,-1),-1):\n",
    "    print(f'{i}: {filenamelist[i]}')"
   ]
  },
  {
   "cell_type": "code",
   "execution_count": null,
   "metadata": {},
   "outputs": [],
   "source": [
    "filename = filenamelist[3] #update this number with the index of the file you want to process from the directory listing generated in the previous cell\n",
    "filetype = 'dxfile' #should be dxfile for data since mid 2021. For data before that, use 'als' instead\n",
    "\n",
    "if (filetype == 'als') or (filetype == 'als1131'):\n",
    "    datafile = h5py.File(os.path.join(inputPath,filename), 'r')\n",
    "    gdata = dict(dxchange.reader._find_dataset_group(datafile).attrs)\n",
    "    pxsize = float(gdata['pxsize'])\n",
    "    numslices = int(gdata['nslices'])\n",
    "    numangles = int(gdata['nangles'])\n",
    "    angularrange = float(gdata['arange'])\n",
    "    numrays = int(gdata['nrays'])\n",
    "    inter_bright = int(gdata['i0cycle'])\n",
    "    propagation_dist = float(gdata['Camera_Z_Support'])\n",
    "    kev = float(gdata['Mono_Energy']) / 1000\n",
    "elif (filetype == 'dxfile'):\n",
    "    numslices = int(dxchange.read_hdf5(os.path.join(inputPath, filename), \"/measurement/instrument/detector/dimension_y\")[0])\n",
    "    numrays = int(dxchange.read_hdf5(os.path.join(inputPath, filename), \"/measurement/instrument/detector/dimension_x\")[0])\n",
    "    pxsize = dxchange.read_hdf5(os.path.join(inputPath, filename), \"/measurement/instrument/detector/pixel_size\")[0] / 10.0  # /10 to convert units from mm to cm\n",
    "    numangles = int(dxchange.read_hdf5(os.path.join(inputPath, filename), \"/process/acquisition/rotation/num_angles\")[0])\n",
    "    propagation_dist = dxchange.read_hdf5(os.path.join(inputPath, filename), \"/measurement/instrument/camera_motor_stack/setup/camera_distance\")[0]\n",
    "    kev = dxchange.read_hdf5(os.path.join(inputPath, filename), \"/measurement/instrument/monochromator/energy\")[0] / 1000\n",
    "    angularrange = dxchange.read_hdf5(os.path.join(inputPath, filename), \"/process/acquisition/rotation/range\")[0]\n",
    "    #         _, _, _, anglelist = dxchange.exchange.read_aps_tomoscan_hdf5(os.path.join(inputPath, filename))\n",
    "\n",
    "print(f'{filename}: \\nslices: {numslices}, rays: {numrays}, angles: {numangles}, angularrange: {angularrange}, \\npxsize: {pxsize*10000} um, distance: {propagation_dist} mm. energy: {kev} keV')\n",
    "if kev>100:\n",
    "    print('white light mode detected; energy is set to 30 kev for the phase retrieval function')"
   ]
  },
  {
   "cell_type": "code",
   "execution_count": null,
   "metadata": {},
   "outputs": [],
   "source": [
    "#Edit parameters for recon. Open the reconstruction.py file to see comments on options.\n",
    "functioninput = {\n",
    "    \"filename\": filename, \"inputPath\": inputPath, \"outputPath\": outputPath, \"filetype\": filetype, \"timepoint\": 0,\n",
    "    \"sinoused\": (-1,1,1), #(start, stop, step) for which slices to recon. (-1,1,1) reconstructs just the middle slice\n",
    "    \"cor\": None, #None, # None, #set something other than None if you want to automatically detect center of rotation\n",
    "    \"corFunction\": 'pc',\n",
    "    \"writereconstruction\": 0, \"writenormalized\": 0, \"dorecon\": 1,\n",
    "    \"butterworth_cutoff\": 0.25,\n",
    "    \"doOutliers1D\": 1,\n",
    "    \"doFWringremoval\": 1,\n",
    "    \"doPhaseRetrieval\": 0, \"alphaReg\": 0.005,\n",
    "    \"castTo8bit\": 0, \"cast8bit_min\": -1, \"cast8bit_max\": 1,\n",
    "    \"doPolarRing\": 0, \"Rarc\": 15, \"Rmaxwidth\": 15, \"Rtmax\": 5, \"Rthr\": 5, \"Rtmin\": -2,\n",
    "    \"chunk_proj\": 100, \"chunk_sino\": 25,\n",
    "    \"verbose_printing\": 1,\n",
    "    \"angle_offset\": 0,\n",
    "    \"use360to180\": 0,\n",
    "}\n",
    "recon_dictionary, cor_tomo = recon_setup(**functioninput)\n",
    "print(f\"center of rotation: {recon_dictionary['cor']}\")"
   ]
  },
  {
   "cell_type": "code",
   "execution_count": null,
   "metadata": {
    "tags": []
   },
   "outputs": [],
   "source": [
    "#manually set center of rotation based on overlay of first and last image (assumes 180 degree rotation)\n",
    "if isinstance(cor_tomo,np.ndarray):  \n",
    "    firstimage = np.squeeze(cor_tomo[0,:,:])\n",
    "    lastimageflipped = np.squeeze(cor_tomo[1,:,::-1])\n",
    "    shiftedlastimage = np.zeros_like(lastimageflipped)\n",
    "    imagewidth = cor_tomo.shape[2]\n",
    "    cor_shift_initial_value = 2*(recon_dictionary['cor'] - imagewidth/2)\n",
    "    non = lambda s: s if s<0 else None\n",
    "    mom = lambda s: max(0,s)\n",
    "\n",
    "    fig, ax = plt.subplots(constrained_layout=True)\n",
    "    fig.canvas.toolbar_position = 'right'\n",
    "    fig.canvas.header_visible = False\n",
    "    img = ax.imshow(firstimage-lastimageflipped,cmap='gray',vmin=-.1,vmax=.1)\n",
    "    \n",
    "    def updateimage(ox):\n",
    "        recon_dictionary['cor'] = imagewidth/2.0 + ox/2.0\n",
    "        shiftedlastimage[:,mom(ox):non(ox)] = lastimageflipped[:, mom(-ox):non(-ox)]\n",
    "        img.set_array(firstimage - shiftedlastimage)\n",
    "        ax.set_title(f\"COR: {recon_dictionary['cor']}\")\n",
    "        fig.canvas.draw()\n",
    "        fig.canvas.flush_events()\n",
    "    \n",
    "    slider_xshift = widgets.IntSlider(description='Shift Image', min = -500, max = 500, step=1, value = cor_shift_initial_value, layout=widgets.Layout(width='50%'))\n",
    "    uishiftsliders = widgets.HBox([slider_xshift])\n",
    "    outshiftsliders = widgets.interactive_output(updateimage,{'ox':slider_xshift});\n",
    "    display(uishiftsliders,outshiftsliders)\n",
    "else:\n",
    "    print(\"COR was already set by user, no display available\")"
   ]
  },
  {
   "cell_type": "code",
   "execution_count": null,
   "metadata": {},
   "outputs": [],
   "source": [
    "#this cell reconsructs one slice\n",
    "#(or the number of slices specified in sinoused)\n",
    "print(f\"COR: {recon_dictionary['cor']}\")\n",
    "rec, tomo = recon(**recon_dictionary)"
   ]
  },
  {
   "cell_type": "code",
   "execution_count": null,
   "metadata": {},
   "outputs": [],
   "source": [
    "#not sure if this makes a copy in memory? if so you can do this another way?\n",
    "imagetoshow = rec\n",
    "#we assume that we want to iterate over the first dimension\n",
    "number_of_slices = imagetoshow.shape[0]\n",
    "\n",
    "def showstack(slicenumber):\n",
    "    plt.figure(figsize=(8, 8))\n",
    "    plt.imshow(imagetoshow[slicenumber,:,:],cmap='gray',vmin=-5,vmax=30)\n",
    "    return slicenumber\n",
    "w = widgets.interactive(showstack, slicenumber = (0,number_of_slices-1,1))\n",
    "w.children[0].value = 0    \n",
    "display(w)"
   ]
  },
  {
   "cell_type": "code",
   "execution_count": null,
   "metadata": {},
   "outputs": [],
   "source": [
    "#This cell takes the parameters most recently used and\n",
    "#adds doing a full reconstruction to the to-do list\n",
    "functioninput['sinoused'] = None\n",
    "functioninput['writereconstruction'] = 1\n",
    "functioninput['verbose_printing'] = 0\n",
    "functioninput['cor'] = recon_dictionary['cor']\n",
    "recon_dictionary, cor_tomo = recon_setup(**functioninput)\n",
    "\n",
    "recons_todo.append(recon_dictionary)\n",
    "with open(os.path.join(outputPath,pickledparamsfile), 'wb') as f:\n",
    "    pickle.dump(recons_todo, f, protocol=pickle.HIGHEST_PROTOCOL)\n",
    "print(f'Parameters added to list saved in {os.path.join(outputPath,pickledparamsfile)}')\n",
    "print(f'Number of reconstructions in recons_todo = {len(recons_todo)}')"
   ]
  },
  {
   "cell_type": "code",
   "execution_count": null,
   "metadata": {},
   "outputs": [],
   "source": [
    "for i in range(0,len(recons_todo)):\n",
    "    recon_dictionary = recons_todo[i]\n",
    "    rec, tomo = recon(**recon_dictionary)\n",
    "    \n",
    "#these lines reset the queue and make a new pkl file\n",
    "#in case you want to start a new set of processing with the same subdirectory\n",
    "#without overwriting the last one\n",
    "recons_todo = []\n",
    "pklbase, pklext = os.path.splitext(pickledparamsfile)\n",
    "pickledparamsfile = pklbase+'_1'+pklext"
   ]
  },
  {
   "cell_type": "markdown",
   "metadata": {},
   "source": [
    "The rest of the cells are in case you lost track of what you were doing\n",
    "or had to restart the notebook and want to load a previous to do list"
   ]
  },
  {
   "cell_type": "code",
   "execution_count": null,
   "metadata": {},
   "outputs": [],
   "source": [
    "# list the data sets on recon_todo\n",
    "for i in range(0,len(recons_todo)):\n",
    "    print(recons_todo[i]['filename'])"
   ]
  },
  {
   "cell_type": "code",
   "execution_count": null,
   "metadata": {},
   "outputs": [],
   "source": [
    "#If a parameters file is saved previously but wasn't run,\n",
    "#it can be opened here to run the reconstructions in the next cell\n",
    "\n",
    "# with open(os.path.join(outputPath,pickledparamsfile), 'rb') as f:\n",
    "#     recons_todo = pickle.load(f)"
   ]
  },
  {
   "cell_type": "code",
   "execution_count": null,
   "metadata": {},
   "outputs": [],
   "source": [
    "#uncomment the next lines if you want to just loop through\n",
    "#a bunch of data sets and reconstruct them without first previewing them\n",
    "\n",
    "firstfile = 15\n",
    "lastfile = 23\n",
    "for i in range(firstfile,lastfile+1,1):\n",
    "    filename = filenamelist[i]\n",
    "    functioninput = {\n",
    "        \"filename\": filename, \"inputPath\": inputPath, \"outputPath\": outputPath, \"filetype\": 'dxfile', \"timepoint\": 0,\n",
    "        \"sinoused\": None, #(start, stop, step) for which slices to recon. (-1,1,1) reconstructs just the middle slice\n",
    "        \"cor\": None, # None, #set something other than None if you want to automatically detect center of rotation\n",
    "        \"corFunction\": 'pc',\n",
    "        \"writereconstruction\": 1, \"writenormalized\": 0, \"dorecon\": 1,\n",
    "        \"doOutliers1D\": 1,\n",
    "        \"doFWringremoval\": 0,\n",
    "        \"doPhaseRetrieval\": 0, \"alphaReg\": 0.005,\n",
    "        \"castTo8bit\": 0, \"cast8bit_min\": -1, \"cast8bit_max\": 1,\n",
    "        \"doPolarRing\": 1, \"Rarc\": 15, \"Rmaxwidth\": 15, \"Rtmax\": 5, \"Rthr\": 5, \"Rtmin\": -2,\n",
    "        \"chunk_proj\": 100, \"chunk_sino\": 25,\n",
    "        \"verbose_printing\": 1,\n",
    "        \"angle_offset\":0,\n",
    "    }\n",
    "    recon_dictionary, cor_tomo = recon_setup(**functioninput)\n",
    "    print(f\"center of rotation: {recon_dictionary['cor']}\")\n",
    "    rec, tomo = recon(**recon_dictionary)"
   ]
  },
  {
   "cell_type": "code",
   "execution_count": null,
   "metadata": {},
   "outputs": [],
   "source": [
    "#to write out the raw data as .tif files\n",
    "filename = filenamelist[615]\n",
    "outputFilename = os.path.splitext(filename)[0]\n",
    "fulloutputPath = os.path.join(outputPath, 'norm' + outputFilename)\n",
    "if not os.path.exists(fulloutputPath):\n",
    "    os.mkdir(fulloutputPath)\n",
    "filenametowrite = os.path.join(fulloutputPath,outputFilename)\n",
    "\n",
    "tomo, flat, dark, coranglelist = dxchange.exchange.read_aps_tomoscan_hdf5(os.path.join(inputPath, filename))\n",
    "\n",
    "# dxchange.write_tiff_stack(tomo, fname=filenametowrite+'raw',start=0)\n",
    "# dxchange.write_tiff_stack(flat, fname=filenametowrite+'flat',start=0)\n",
    "# dxchange.write_tiff_stack(dark, fname=filenametowrite+'dark',start=0)\n",
    "\n",
    "\n",
    "import tomopy\n",
    "\n",
    "tomo = tomo.astype(np.float32)\n",
    "tomopy.normalize(tomo, flat, dark, out=tomo)\n",
    "\n",
    "dxchange.write_tiff_stack(tomo, fname=filenametowrite+'norm')\n",
    "# tomomedian = np.median(tomo,axis=0);\n",
    "# dxchange.write_tiff(tomomedian, fname=filenametowrite+'norm')"
   ]
  },
  {
   "cell_type": "code",
   "execution_count": null,
   "metadata": {},
   "outputs": [],
   "source": [
    "# return a set of reconstructed slices as an array, each slice from a different value of a parameter you iterate over\n",
    "keytotest = 'cor'\n",
    "variable_radius = 6\n",
    "variable_steps = 5\n",
    "variable_center = recon_dictionary[keytotest] #use recon_dictionary[keytotest] to start from the value set before, or choose another value\n",
    "\n",
    "if 1:\n",
    "    arrayofvalues = np.linspace(variable_center-variable_radius, variable_center+variable_radius, num=variable_steps)\n",
    "    rec_variations = np.zeros([len(arrayofvalues),int(recon_dictionary['numrays']),int(recon_dictionary['numrays'])])\n",
    "    for i in range(0,len(arrayofvalues)):\n",
    "        print(f'Running recon {i+1} of {len(arrayofvalues)}, with {keytotest}={arrayofvalues[i]}')\n",
    "        recon_dictionary[keytotest] = arrayofvalues[i]\n",
    "        rec, tomo = recon(**recon_dictionary)\n",
    "        rec_variations[i,:,:] = rec[int(np.floor(rec.shape[0]/2)),:,:]"
   ]
  },
  {
   "cell_type": "code",
   "execution_count": null,
   "metadata": {},
   "outputs": [],
   "source": [
    "# # return a set of reconstructed slices as an array, each slice from a different value of a parameter you iterate over\n",
    "# recon_dictionary['doPhaseRetrieval'] = 1\n",
    "# if ('phase_retrieval' not in recon_dictionary['function_list']):\n",
    "#     recon_dictionary['function_list'].insert(2,'phase_retrieval')\n",
    "\n",
    "# arrayofvalues = [0.001,0.0001,0.00001,0.000001,0.0000001, 0.00000001,0.000000001,.0000000001]\n",
    "# keytotest = 'alphaReg'\n",
    "\n",
    "# rec_variations = np.zeros([len(arrayofvalues),int(recon_dictionary['numrays']),int(recon_dictionary['numrays'])])\n",
    "# for i in range(0,len(arrayofvalues)):\n",
    "#     print(f'Running recon {i+1} of {len(arrayofvalues)}, with {keytotest}={arrayofvalues[i]}')\n",
    "#     recon_dictionary[keytotest] = arrayofvalues[i]\n",
    "#     rec, tomo = recon(**recon_dictionary)\n",
    "#     rec_variations[i,:,:] = rec[int(np.floor(rec.shape[0]/2)),:,:]"
   ]
  },
  {
   "cell_type": "code",
   "execution_count": null,
   "metadata": {},
   "outputs": [],
   "source": [
    "#not sure if this makes a copy in memory? if so you can do this another way?\n",
    "imagetoshow = rec_variations\n",
    "#we assume that we want to iterate over the first dimension\n",
    "number_of_slices = imagetoshow.shape[0]\n",
    "\n",
    "def showstack(slicenumber):\n",
    "    plt.figure(figsize=(8, 8))\n",
    "    plt.imshow(imagetoshow[slicenumber,:,:],cmap='gray',vmin=-.1,vmax=10)\n",
    "    return slicenumber\n",
    "w = widgets.interactive(showstack, slicenumber = (0,number_of_slices-1,1))\n",
    "w.children[0].value = 0    \n",
    "display(w)"
   ]
  }
 ],
 "metadata": {
  "kernelspec": {
   "display_name": "Python 3 (ipykernel)",
   "language": "python",
   "name": "python3"
  },
  "language_info": {
   "codemirror_mode": {
    "name": "ipython",
    "version": 3
   },
   "file_extension": ".py",
   "mimetype": "text/x-python",
   "name": "python",
   "nbconvert_exporter": "python",
   "pygments_lexer": "ipython3",
   "version": "3.9.13"
  }
 },
 "nbformat": 4,
 "nbformat_minor": 4
}
